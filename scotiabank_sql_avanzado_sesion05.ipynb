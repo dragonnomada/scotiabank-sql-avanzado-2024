{
  "nbformat": 4,
  "nbformat_minor": 0,
  "metadata": {
    "colab": {
      "provenance": []
    },
    "kernelspec": {
      "name": "python3",
      "display_name": "Python 3"
    },
    "language_info": {
      "name": "python"
    }
  },
  "cells": [
    {
      "cell_type": "markdown",
      "source": [
        "# Curso de SQL Avanzado\n",
        "\n",
        "<img src=\"https://amei.mx/wp-content/uploads/2016/08/Scotiabank-logo.jpg\" alt=\"Scotiabank Logo\" height=\"60\">\n",
        "<img src=\"https://www.belatrix.com/wp-content/uploads/2023/08/belatrix-logosweb-1.png\" alt=\"Belatrix Logo\" height=\"60\">\n",
        "\n",
        "\n",
        "**[Scotiabank](https://www.scotiabank.com.mx)** | **[Belatrix](https://www.belatrix.com)**\n",
        "\n",
        "Instructor: [Alan Badillo Salas](alan@nomadacode.com)"
      ],
      "metadata": {
        "id": "qVe9i2Zt24op"
      }
    },
    {
      "cell_type": "markdown",
      "source": [
        "## Sesión 05"
      ],
      "metadata": {
        "id": "Un6LYPYy3AfG"
      }
    },
    {
      "cell_type": "code",
      "execution_count": 2,
      "metadata": {
        "colab": {
          "base_uri": "https://localhost:8080/",
          "height": 0
        },
        "id": "B74PI2NFZVu6",
        "outputId": "59392115-ff1d-46ff-a38c-e0880168063b"
      },
      "outputs": [
        {
          "output_type": "stream",
          "name": "stdout",
          "text": [
            "Collecting pymssql\n",
            "  Downloading pymssql-2.3.0-cp310-cp310-manylinux_2_28_x86_64.whl (4.6 MB)\n",
            "\u001b[2K     \u001b[90m━━━━━━━━━━━━━━━━━━━━━━━━━━━━━━━━━━━━━━━━\u001b[0m \u001b[32m4.6/4.6 MB\u001b[0m \u001b[31m30.0 MB/s\u001b[0m eta \u001b[36m0:00:00\u001b[0m\n",
            "\u001b[?25hInstalling collected packages: pymssql\n",
            "Successfully installed pymssql-2.3.0\n"
          ]
        }
      ],
      "source": [
        "!pip install pymssql"
      ]
    },
    {
      "cell_type": "code",
      "source": [
        "import pymssql\n",
        "\n",
        "conn = pymssql.connect(\"3.93.192.216\", \"test_curso\", \"TestCurso$123\", \"test_curso\")\n",
        "\n",
        "cursor = conn.cursor()\n",
        "\n",
        "print(\"Cursor creado\")"
      ],
      "metadata": {
        "colab": {
          "base_uri": "https://localhost:8080/",
          "height": 0
        },
        "id": "x6aNakTdZYBZ",
        "outputId": "ff367697-938d-46bf-a75f-0a45350a2147"
      },
      "execution_count": 22,
      "outputs": [
        {
          "output_type": "stream",
          "name": "stdout",
          "text": [
            "Cursor creado\n"
          ]
        }
      ]
    },
    {
      "cell_type": "code",
      "source": [
        "cursor.execute(\"\"\"\n",
        "select @@version\n",
        "\"\"\")\n",
        "\n",
        "column1, = cursor.fetchone()\n",
        "\n",
        "print(column1)"
      ],
      "metadata": {
        "colab": {
          "base_uri": "https://localhost:8080/",
          "height": 0
        },
        "id": "KGBGqLUWZuX4",
        "outputId": "abf86a21-879e-4306-f0a9-ebc8657c218a"
      },
      "execution_count": 23,
      "outputs": [
        {
          "output_type": "stream",
          "name": "stdout",
          "text": [
            "Microsoft SQL Server 2019 (RTM-CU25) (KB5033688) - 15.0.4355.3 (X64) \n",
            "\tJan 30 2024 17:02:22 \n",
            "\tCopyright (C) 2019 Microsoft Corporation\n",
            "\tExpress Edition (64-bit) on Windows Server 2019 Datacenter 10.0 <X64> (Build 17763: ) (Hypervisor)\n",
            "\n"
          ]
        }
      ]
    },
    {
      "cell_type": "code",
      "source": [
        "cursor.execute(\"\"\"\n",
        "select id, dbo.countTodosByUserId(id) from users;\n",
        "\"\"\")\n",
        "\n",
        "user_ids = []\n",
        "todos_counts = []\n",
        "\n",
        "for id, todosCount in cursor.fetchall():\n",
        "  print(f\"ID: {id} | TODOS COUNT: {todosCount}\")\n",
        "  user_ids.append(id)\n",
        "  todos_counts.append(todosCount)\n",
        "\n",
        "print(user_ids)\n",
        "print(todos_counts)\n",
        "\n",
        "import seaborn as sns\n",
        "\n",
        "sns.barplot(x=user_ids, y=todos_counts)"
      ],
      "metadata": {
        "colab": {
          "base_uri": "https://localhost:8080/",
          "height": 534
        },
        "id": "ht5iI0WmZ_bS",
        "outputId": "69c2377d-8840-4a6e-a0e0-2565e80c4c94"
      },
      "execution_count": 10,
      "outputs": [
        {
          "output_type": "stream",
          "name": "stdout",
          "text": [
            "ID: 1 | TODOS COUNT: 46\n",
            "ID: 2 | TODOS COUNT: 39\n",
            "ID: 3 | TODOS COUNT: 40\n",
            "[1, 2, 3]\n",
            "[46, 39, 40]\n"
          ]
        },
        {
          "output_type": "execute_result",
          "data": {
            "text/plain": [
              "<Axes: >"
            ]
          },
          "metadata": {},
          "execution_count": 10
        },
        {
          "output_type": "display_data",
          "data": {
            "text/plain": [
              "<Figure size 640x480 with 1 Axes>"
            ],
            "image/png": "[encoded data removed]"
          },
          "metadata": {}
        }
      ]
    },
    {
      "cell_type": "code",
      "source": [
        "cursor.execute(\"\"\"\n",
        "create function dbo.hello()\n",
        "returns varchar(255)\n",
        "as\n",
        "begin\n",
        "  -- TODO: Más lógica\n",
        "\n",
        "  return 'Hello SQL Server from Function 👋'\n",
        "end\n",
        "\"\"\")\n",
        "conn.commit()"
      ],
      "metadata": {
        "id": "fC_g5P9Saym9"
      },
      "execution_count": 11,
      "outputs": []
    },
    {
      "cell_type": "code",
      "source": [
        "cursor.execute(\"select dbo.hello()\")\n",
        "\n",
        "for saludo, in cursor.fetchall():\n",
        "  print(saludo)"
      ],
      "metadata": {
        "colab": {
          "base_uri": "https://localhost:8080/",
          "height": 0
        },
        "id": "AZRR_LHObEPs",
        "outputId": "52794c0e-9dcc-4b78-d24d-252bddc0eea2"
      },
      "execution_count": 12,
      "outputs": [
        {
          "output_type": "stream",
          "name": "stdout",
          "text": [
            "Hello SQL Server from Function ??\n"
          ]
        }
      ]
    },
    {
      "cell_type": "markdown",
      "source": [
        "## Llamar a un procedimiento almacenado desde pymssql"
      ],
      "metadata": {
        "id": "JnMIMBdPipEO"
      }
    },
    {
      "cell_type": "code",
      "source": [
        "username = input(\"Nombre de usuario: \")\n",
        "password = input(\"Contraseña: \")\n",
        "firstname = input(\"Nombre de la persona: \")\n",
        "lastnname = input(\"Apellidos de la persona: \")\n",
        "\n",
        "cursor.execute(\n",
        "    \"\"\"\n",
        "      declare @lastId int;\n",
        "\n",
        "      execute dbo.createUser\n",
        "        @username = %s,\n",
        "        @password = %s,\n",
        "        @firstname = %s,\n",
        "        @lastname = %s,\n",
        "        @insertedId = @lastId output\n",
        "      ;\n",
        "\n",
        "      select isnull(@lastId, -1);\n",
        "    \"\"\",\n",
        "    (username, password, firstname, lastnname)\n",
        ")\n",
        "\n",
        "id, = cursor.fetchone()\n",
        "\n",
        "print(f\"ID: {id}\")\n",
        "\n",
        "conn.commit()"
      ],
      "metadata": {
        "colab": {
          "base_uri": "https://localhost:8080/",
          "height": 0
        },
        "id": "OahWfvKBilgU",
        "outputId": "1316d299-a69b-49e7-e4dc-e9e2bebf183c"
      },
      "execution_count": 21,
      "outputs": [
        {
          "output_type": "stream",
          "name": "stdout",
          "text": [
            "Nombre de usuario: zz\n",
            "Contraseña: zz123\n",
            "Nombre de la persona: ZZ\n",
            "Apellidos de la persona: TT\n",
            "ID: 14\n"
          ]
        }
      ]
    },
    {
      "cell_type": "code",
      "source": [],
      "metadata": {
        "id": "OaWpxld8jRCa"
      },
      "execution_count": 17,
      "outputs": []
    }
  ]
}