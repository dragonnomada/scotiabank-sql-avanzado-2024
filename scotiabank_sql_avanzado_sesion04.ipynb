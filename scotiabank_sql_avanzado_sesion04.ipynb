{
  "nbformat": 4,
  "nbformat_minor": 0,
  "metadata": {
    "colab": {
      "provenance": []
    },
    "kernelspec": {
      "name": "python3",
      "display_name": "Python 3"
    },
    "language_info": {
      "name": "python"
    }
  },
  "cells": [
    {
      "cell_type": "markdown",
      "source": [
        "# Curso de SQL Avanzado\n",
        "\n",
        "<img src=\"https://amei.mx/wp-content/uploads/2016/08/Scotiabank-logo.jpg\" alt=\"Scotiabank Logo\" height=\"60\">\n",
        "<img src=\"https://www.belatrix.com/wp-content/uploads/2023/08/belatrix-logosweb-1.png\" alt=\"Belatrix Logo\" height=\"60\">\n",
        "\n",
        "\n",
        "**[Scotiabank](https://www.scotiabank.com.mx)** | **[Belatrix](https://www.belatrix.com)**\n",
        "\n",
        "Instructor: [Alan Badillo Salas](alan@nomadacode.com)"
      ],
      "metadata": {
        "id": "qVe9i2Zt24op"
      }
    },
    {
      "cell_type": "markdown",
      "source": [
        "## Sesión 04"
      ],
      "metadata": {
        "id": "J7a-uYWN20pW"
      }
    },
    {
      "cell_type": "markdown",
      "source": [
        "## ⭕ Paso 1 - Instalar `pymssql`"
      ],
      "metadata": {
        "id": "cfqypmH8KjGc"
      }
    },
    {
      "cell_type": "code",
      "execution_count": null,
      "metadata": {
        "colab": {
          "base_uri": "https://localhost:8080/"
        },
        "id": "sxtDsU8oJ4Uo",
        "outputId": "2bcee72a-1860-45b4-fb8d-64cac6f2181b"
      },
      "outputs": [
        {
          "output_type": "stream",
          "name": "stdout",
          "text": [
            "Collecting pymssql\n",
            "  Downloading pymssql-2.3.0-cp310-cp310-manylinux_2_28_x86_64.whl (4.6 MB)\n",
            "\u001b[2K     \u001b[90m━━━━━━━━━━━━━━━━━━━━━━━━━━━━━━━━━━━━━━━━\u001b[0m \u001b[32m4.6/4.6 MB\u001b[0m \u001b[31m21.0 MB/s\u001b[0m eta \u001b[36m0:00:00\u001b[0m\n",
            "\u001b[?25hInstalling collected packages: pymssql\n",
            "Successfully installed pymssql-2.3.0\n"
          ]
        }
      ],
      "source": [
        "!pip install pymssql"
      ]
    },
    {
      "cell_type": "code",
      "source": [
        "print(\"Hola Python 🐍\")"
      ],
      "metadata": {
        "colab": {
          "base_uri": "https://localhost:8080/"
        },
        "id": "P7U00ZEBKcE5",
        "outputId": "b32699ea-e5fe-4617-fa98-1c489837d48b"
      },
      "execution_count": null,
      "outputs": [
        {
          "output_type": "stream",
          "name": "stdout",
          "text": [
            "Hola Python 🐍\n"
          ]
        }
      ]
    },
    {
      "cell_type": "code",
      "source": [
        "(2 ** 10) * 4"
      ],
      "metadata": {
        "colab": {
          "base_uri": "https://localhost:8080/"
        },
        "id": "Wrkonl6PLByz",
        "outputId": "02e6d7f1-98dc-4f50-8d0a-1d6142e32621"
      },
      "execution_count": null,
      "outputs": [
        {
          "output_type": "execute_result",
          "data": {
            "text/plain": [
              "4096"
            ]
          },
          "metadata": {},
          "execution_count": 3
        }
      ]
    },
    {
      "cell_type": "code",
      "source": [
        "import matplotlib.pyplot as plt\n",
        "import numpy as np\n",
        "\n",
        "x = [23, 45, 67, 34]\n",
        "y = [10500, 35000, 8000, 12000]\n",
        "\n",
        "plt.bar(x, y)"
      ],
      "metadata": {
        "colab": {
          "base_uri": "https://localhost:8080/",
          "height": 448
        },
        "id": "aP5HIT-ZLIhf",
        "outputId": "345c038f-a1b2-4a08-d5f3-ecc871e503f9"
      },
      "execution_count": null,
      "outputs": [
        {
          "output_type": "execute_result",
          "data": {
            "text/plain": [
              "<BarContainer object of 4 artists>"
            ]
          },
          "metadata": {},
          "execution_count": 5
        },
        {
          "output_type": "display_data",
          "data": {
            "text/plain": [
              "<Figure size 640x480 with 1 Axes>"
            ],
            "image/png": "[encoded data removed]"
          },
          "metadata": {}
        }
      ]
    },
    {
      "cell_type": "code",
      "source": [
        "try:\n",
        "  a = 1 / 0\n",
        "except:\n",
        "  print(\"No se pudo realizar la operación\")"
      ],
      "metadata": {
        "colab": {
          "base_uri": "https://localhost:8080/"
        },
        "id": "N4wSDc6-LvBY",
        "outputId": "47c98092-195f-4017-e751-a64ab0a8143d"
      },
      "execution_count": null,
      "outputs": [
        {
          "output_type": "stream",
          "name": "stdout",
          "text": [
            "No se pudo realizar la operación\n"
          ]
        }
      ]
    },
    {
      "cell_type": "markdown",
      "source": [
        "## Conectar una base de datos SQL Server"
      ],
      "metadata": {
        "id": "TboYX53mNGXG"
      }
    },
    {
      "cell_type": "code",
      "source": [
        "import pymssql\n",
        "\n",
        "server = \"3.93.192.216\"\n",
        "dbname = \"test_curso\"\n",
        "user = \"test_curso\"\n",
        "password = \"TestCurso$123\"\n",
        "\n",
        "conn = pymssql.connect(server, user, password, dbname)\n",
        "\n",
        "cursor = conn.cursor()\n",
        "\n",
        "cursor.execute(\"select @@version\")\n",
        "\n",
        "row = cursor.fetchone()\n",
        "\n",
        "print(row[0])"
      ],
      "metadata": {
        "colab": {
          "base_uri": "https://localhost:8080/"
        },
        "id": "PMoLA6hyL2_A",
        "outputId": "5d7cc952-cee5-433a-ccc5-1cc4628b09b7"
      },
      "execution_count": null,
      "outputs": [
        {
          "output_type": "stream",
          "name": "stdout",
          "text": [
            "Microsoft SQL Server 2019 (RTM-CU25) (KB5033688) - 15.0.4355.3 (X64) \n",
            "\tJan 30 2024 17:02:22 \n",
            "\tCopyright (C) 2019 Microsoft Corporation\n",
            "\tExpress Edition (64-bit) on Windows Server 2019 Datacenter 10.0 <X64> (Build 17763: ) (Hypervisor)\n",
            "\n"
          ]
        }
      ]
    },
    {
      "cell_type": "code",
      "source": [
        "cursor.execute(\"select id, name from foo\")\n",
        "\n",
        "max_id = None\n",
        "\n",
        "for row in cursor.fetchall():\n",
        "  print(f\"ID: {row[0]} | NAME: {row[1]}\")\n",
        "  if max_id == None or row[0] > max_id:\n",
        "    max_id = row[0]\n",
        "\n",
        "print()\n",
        "print(f\"MAX ID: {max_id}\")"
      ],
      "metadata": {
        "colab": {
          "base_uri": "https://localhost:8080/"
        },
        "id": "uhviCCDePY8b",
        "outputId": "7b4285fc-58cd-4fd6-adc5-82aa2e854f7c"
      },
      "execution_count": null,
      "outputs": [
        {
          "output_type": "stream",
          "name": "stdout",
          "text": [
            "ID: 1 | NAME: Nombre Ejemplo\n",
            "ID: 2 | NAME: Otro Ejemplo\n",
            "ID: 3 | NAME: Tercer Ejemplo\n",
            "ID: 4 | NAME: Probando desde DBeaver\n",
            "ID: 5 | NAME: Hola mundo 5147\n",
            "ID: 6 | NAME: Hola mundo 1059\n",
            "ID: 7 | NAME: Hola mundo 6707\n",
            "ID: 8 | NAME: Hola mundo 3618\n",
            "ID: 9 | NAME: Hola mundo 3006\n",
            "ID: 15 | NAME: Scotia\n",
            "\n",
            "MAX ID: 15\n"
          ]
        }
      ]
    },
    {
      "cell_type": "code",
      "source": [
        "import random\n",
        "\n",
        "id = max_id + 1\n",
        "name = f\"Hola mundo {random.randint(1, 10_000)}\"\n",
        "\n",
        "cursor.execute(\"insert into foo (id, name) values (%d, %s)\", (id, name))"
      ],
      "metadata": {
        "id": "d7sLtJT9P-Kx"
      },
      "execution_count": null,
      "outputs": []
    },
    {
      "cell_type": "code",
      "source": [
        "conn.commit()"
      ],
      "metadata": {
        "id": "LW2b9jl8Q-JK"
      },
      "execution_count": null,
      "outputs": []
    },
    {
      "cell_type": "code",
      "source": [
        "sql = \"\"\"\n",
        "create table bar (\n",
        "  id int primary key,\n",
        "  title varchar(255)\n",
        ")\n",
        "\"\"\"\n",
        "\n",
        "cursor.execute(sql)\n",
        "\n",
        "conn.commit()"
      ],
      "metadata": {
        "id": "iqiUwyFdU7bh"
      },
      "execution_count": null,
      "outputs": []
    },
    {
      "cell_type": "code",
      "source": [
        "actividades = [\"Comprar\", \"Escuchar\", \"Lavar\", \"Devolver\"]\n",
        "objetos = [\"huevo\", \"leche\", \"galletas\", \"música\", \"videos\", \"a la abuela\", \"ropa\", \"los tenis\", \"la camisa\", \"el estéreo\"]\n",
        "\n",
        "import random\n",
        "\n",
        "print(\"Se crearán 5 TODOS\")\n",
        "print(\"=\" * 80)\n",
        "\n",
        "for i in range(5):\n",
        "  cursor.execute(\"select top(1) id, username from users order by newid()\")\n",
        "  user_id, username = cursor.fetchone()\n",
        "  print(f\"Username: {username} ({user_id})\")\n",
        "  title = random.choice(actividades) + \" \" + random.choice(objetos)\n",
        "  description = f\"El usuario hará la tarea de: {title}\"\n",
        "  print(title)\n",
        "  print(description)\n",
        "  print(\"-\" * 80)\n",
        "  cursor.execute(\n",
        "      \"\"\"\n",
        "      insert into todos (user_id, title, description, checked, create_at)\n",
        "      values (%d, %s, %s, 0, sysdatetime())\n",
        "      \"\"\",\n",
        "      (user_id, title, description)\n",
        "  )\n",
        "\n",
        "print(\"=\" * 80)\n",
        "print(\"Se crearon los 5 TODOS, vamos a insertarlos\")\n",
        "\n",
        "conn.commit()\n"
      ],
      "metadata": {
        "colab": {
          "base_uri": "https://localhost:8080/"
        },
        "id": "bjJ4Ld-OaYq-",
        "outputId": "91bb6a57-c2a6-4fb1-bdc0-04d20ca7f628"
      },
      "execution_count": null,
      "outputs": [
        {
          "output_type": "stream",
          "name": "stdout",
          "text": [
            "Se crearán 5 TODOS\n",
            "================================================================================\n",
            "Username: daniela98 (3)\n",
            "Comprar a la abuela\n",
            "El usuario hará la tarea de: Comprar a la abuela\n",
            "--------------------------------------------------------------------------------\n",
            "Username: daniela98 (3)\n",
            "Devolver ropa\n",
            "El usuario hará la tarea de: Devolver ropa\n",
            "--------------------------------------------------------------------------------\n",
            "Username: daniela98 (3)\n",
            "Escuchar huevo\n",
            "El usuario hará la tarea de: Escuchar huevo\n",
            "--------------------------------------------------------------------------------\n",
            "Username: paty123 (1)\n",
            "Lavar el estéreo\n",
            "El usuario hará la tarea de: Lavar el estéreo\n",
            "--------------------------------------------------------------------------------\n",
            "Username: daniela98 (3)\n",
            "Devolver leche\n",
            "El usuario hará la tarea de: Devolver leche\n",
            "--------------------------------------------------------------------------------\n",
            "================================================================================\n",
            "Se crearon los 5 TODOS, vamos a insertarlos\n"
          ]
        }
      ]
    }
  ]
}