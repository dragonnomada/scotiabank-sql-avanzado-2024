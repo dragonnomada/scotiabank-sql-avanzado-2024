{
    "metadata": {
        "kernelspec": {
            "name": "SQL",
            "display_name": "SQL",
            "language": "sql"
        },
        "language_info": {
            "name": "sql",
            "version": ""
        }
    },
    "nbformat_minor": 2,
    "nbformat": 4,
    "cells": [
        {
            "cell_type": "markdown",
            "source": [
                "# Curso de SQL Avanzado\n",
                "\n",
                "<img src=\"https://amei.mx/wp-content/uploads/2016/08/Scotiabank-logo.jpg\" alt=\"Scotiabank Logo\" height=\"60\">\n",
                "<img src=\"https://www.belatrix.com/wp-content/uploads/2023/08/belatrix-logosweb-1.png\" alt=\"Belatrix Logo\" height=\"60\">\n",
                "\n",
                "\n",
                "**[Scotiabank](https://www.scotiabank.com.mx)** | **[Belatrix](https://www.belatrix.com)**\n",
                "\n",
                "Instructor: [Alan Badillo Salas](alan@nomadacode.com)"
            ],
            "metadata": {
                "azdata_cell_guid": "be3ac1e7-ace0-4622-a8e7-aa159ad5dab2"
            },
            "attachments": {}
        },
        {
            "cell_type": "markdown",
            "source": [
                "## Casos de uso y escenarios prácticos"
            ],
            "metadata": {
                "azdata_cell_guid": "aa8b99fb-4168-4c6a-976f-57a8f4ff73ed"
            },
            "attachments": {}
        },
        {
            "cell_type": "markdown",
            "source": [
                "### Financiera Express"
            ],
            "metadata": {
                "azdata_cell_guid": "653b9e6d-1882-4360-a826-60065d30515e"
            },
            "attachments": {}
        },
        {
            "cell_type": "markdown",
            "source": [
                "#### 1. Tablas de la Financiera Express"
            ],
            "metadata": {
                "azdata_cell_guid": "324e86a7-8080-41c8-925f-1530b5b95d89"
            },
            "attachments": {}
        },
        {
            "cell_type": "code",
            "source": [
                "-- Creación de la tabla de Cliente\n",
                "CREATE TABLE Cliente (\n",
                "    ID_Cliente INT PRIMARY KEY,\n",
                "    Nombre NVARCHAR(100),\n",
                "    Apellido_Paterno NVARCHAR(100),\n",
                "    Apellido_Materno NVARCHAR(100),\n",
                "    Correo_Electronico NVARCHAR(255),\n",
                "    Fecha_Registro DATETIME,\n",
                "    Monto_Nomina DECIMAL(10, 2)\n",
                ");\n",
                "\n",
                "-- Creación de la tabla de Préstamos\n",
                "CREATE TABLE Prestamos (\n",
                "    ID_Prestamo INT PRIMARY KEY,\n",
                "    ID_Cliente INT,\n",
                "    Monto_Nomina DECIMAL(10, 2),\n",
                "    Monto_Prestamo DECIMAL(10, 2),\n",
                "    Monto_Comision DECIMAL(10, 2),\n",
                "    Fecha_Solicitud DATETIME,\n",
                "    Fecha_Aprobacion DATETIME,\n",
                "    Activo BIT,\n",
                "    FOREIGN KEY (ID_Cliente) REFERENCES Cliente(ID_Cliente)\n",
                ");\n",
                "\n",
                "-- Creación de la tabla de Abonos a Préstamos\n",
                "CREATE TABLE Abonos_Prestamos (\n",
                "    ID_Abono INT PRIMARY KEY,\n",
                "    ID_Prestamo INT,\n",
                "    ID_Cliente INT,\n",
                "    Monto_Abono DECIMAL(10, 2),\n",
                "    Fecha_Abono DATETIME,\n",
                "    FOREIGN KEY (ID_Prestamo) REFERENCES Prestamos(ID_Prestamo),\n",
                "    FOREIGN KEY (ID_Cliente) REFERENCES Cliente(ID_Cliente)\n",
                ");\n",
                "\n",
                "-- Creación de la tabla de Liquidaciones de Préstamos\n",
                "CREATE TABLE Liquidaciones_Prestamos (\n",
                "    ID_Liquidacion INT PRIMARY KEY,\n",
                "    ID_Prestamo INT,\n",
                "    ID_Cliente INT,\n",
                "    ID_Abono_Ultimo INT,\n",
                "    Numero_Abono INT,\n",
                "    Fecha_Liquidacion DATETIME,\n",
                "    Fecha_Confirmacion DATETIME,\n",
                "    Fecha_Aceptacion DATETIME,\n",
                "    FOREIGN KEY (ID_Prestamo) REFERENCES Prestamos(ID_Prestamo),\n",
                "    FOREIGN KEY (ID_Cliente) REFERENCES Cliente(ID_Cliente),\n",
                "    FOREIGN KEY (ID_Abono_Ultimo) REFERENCES Abonos_Prestamos(ID_Abono)\n",
                ");\n",
                "\n",
                "-- Creación de la tabla de Cobranza\n",
                "CREATE TABLE Cobranza (\n",
                "    ID_Cobranza INT PRIMARY KEY,\n",
                "    ID_Prestamo INT,\n",
                "    ID_Cliente INT,\n",
                "    ID_Liquidacion INT,\n",
                "    Fecha_Registro DATETIME,\n",
                "    Fecha_Revision DATETIME,\n",
                "    FOREIGN KEY (ID_Prestamo) REFERENCES Prestamos(ID_Prestamo),\n",
                "    FOREIGN KEY (ID_Cliente) REFERENCES Cliente(ID_Cliente),\n",
                "    FOREIGN KEY (ID_Liquidacion) REFERENCES Liquidaciones_Prestamos(ID_Liquidacion)\n",
                ");\n",
                ""
            ],
            "metadata": {
                "azdata_cell_guid": "405dd8c9-4799-401c-b66d-910b837181ec",
                "language": "sql"
            },
            "outputs": [
                {
                    "output_type": "display_data",
                    "data": {
                        "text/html": "Commands completed successfully."
                    },
                    "metadata": {}
                },
                {
                    "output_type": "display_data",
                    "data": {
                        "text/html": "Total execution time: 00:00:00.085"
                    },
                    "metadata": {}
                }
            ],
            "execution_count": 1
        },
        {
            "cell_type": "code",
            "source": [
                "-- Eliminar las tablas en el orden correcto para evitar errores de claves foráneas\n",
                "DROP TABLE IF EXISTS Cobranza;\n",
                "DROP TABLE IF EXISTS Liquidaciones_Prestamos;\n",
                "DROP TABLE IF EXISTS Abonos_Prestamos;\n",
                "DROP TABLE IF EXISTS Prestamos;\n",
                "DROP TABLE IF EXISTS Cliente;\n",
                ""
            ],
            "metadata": {
                "azdata_cell_guid": "56fdd72c-244c-4c67-b53f-a204d9d33765",
                "language": "sql"
            },
            "outputs": [],
            "execution_count": null
        },
        {
            "cell_type": "markdown",
            "source": [
                "#### 2. Procedimientos para la correcta inserción"
            ],
            "metadata": {
                "language": "sql",
                "azdata_cell_guid": "3ffd945a-7e77-4a51-83e1-bef9ffeeb211"
            },
            "attachments": {}
        },
        {
            "cell_type": "code",
            "source": [
                "CREATE PROCEDURE InsertarCliente\n",
                "    @Nombre NVARCHAR(100),\n",
                "    @Apellido_Paterno NVARCHAR(100),\n",
                "    @Apellido_Materno NVARCHAR(100),\n",
                "    @Correo_Electronico NVARCHAR(255),\n",
                "    @Monto_Nomina DECIMAL(10, 2)\n",
                "AS\n",
                "BEGIN\n",
                "    DECLARE @ID_Cliente INT = (SELECT ISNULL(MAX(ID_Cliente), 0) + 1 FROM Cliente);\n",
                "\n",
                "    -- Insertar el nuevo cliente en la tabla Cliente\n",
                "    INSERT INTO Cliente (ID_Cliente, Nombre, Apellido_Paterno, Apellido_Materno, Correo_Electronico, Fecha_Registro, Monto_Nomina)\n",
                "    VALUES (@ID_Cliente, @Nombre, @Apellido_Paterno, @Apellido_Materno, @Correo_Electronico, SYSDATETIME(), @Monto_Nomina);\n",
                "    \n",
                "    -- Opcional: Devolver el ID del cliente insertado\n",
                "    SELECT @ID_Cliente  AS ID_Cliente;\n",
                "END;"
            ],
            "metadata": {
                "language": "sql",
                "azdata_cell_guid": "b4d21b91-4268-4ade-a381-ae4ef4c903f9"
            },
            "outputs": [
                {
                    "output_type": "display_data",
                    "data": {
                        "text/html": "Commands completed successfully."
                    },
                    "metadata": {}
                },
                {
                    "output_type": "display_data",
                    "data": {
                        "text/html": "Total execution time: 00:00:00.073"
                    },
                    "metadata": {}
                }
            ],
            "execution_count": 6
        },
        {
            "cell_type": "code",
            "source": [
                "DROP PROCEDURE InsertarCliente;"
            ],
            "metadata": {
                "azdata_cell_guid": "701a0e7c-c234-43ee-bd15-75beb4b4cbee",
                "language": "sql"
            },
            "outputs": [
                {
                    "output_type": "display_data",
                    "data": {
                        "text/html": "Commands completed successfully."
                    },
                    "metadata": {}
                },
                {
                    "output_type": "display_data",
                    "data": {
                        "text/html": "Total execution time: 00:00:00.072"
                    },
                    "metadata": {}
                }
            ],
            "execution_count": 5
        },
        {
            "cell_type": "code",
            "source": [
                "EXEC InsertarCliente\n",
                "    @Nombre = 'Paty',\n",
                "    @Apellido_Paterno = 'Pérez',\n",
                "    @Apellido_Materno = 'López',\n",
                "    @Correo_Electronico = 'paty.perez@ejemplo.com',\n",
                "    @Monto_Nomina = 25000;"
            ],
            "metadata": {
                "language": "sql",
                "azdata_cell_guid": "cbc364d6-aa07-42e6-9297-d2aef3e1bb39"
            },
            "outputs": [
                {
                    "output_type": "display_data",
                    "data": {
                        "text/html": "The statement has been terminated."
                    },
                    "metadata": {}
                },
                {
                    "output_type": "display_data",
                    "data": {
                        "text/html": "(1 row affected)"
                    },
                    "metadata": {}
                },
                {
                    "output_type": "display_data",
                    "data": {
                        "text/html": "Total execution time: 00:00:00.070"
                    },
                    "metadata": {}
                },
                {
                    "output_type": "execute_result",
                    "metadata": {},
                    "execution_count": 16,
                    "data": {
                        "application/vnd.dataresource+json": {
                            "schema": {
                                "fields": [
                                    {
                                        "name": "(No column name)"
                                    }
                                ]
                            },
                            "data": [
                                {
                                    "(No column name)": "2"
                                }
                            ]
                        },
                        "text/html": [
                            "<table>",
                            "<tr><th>(No column name)</th></tr>",
                            "<tr><td>2</td></tr>",
                            "</table>"
                        ]
                    }
                },
                {
                    "output_type": "error",
                    "evalue": "Msg 2601, Level 14, State 1, Procedure InsertarCliente, Line 12\nCannot insert duplicate key row in object 'dbo.Cliente' with unique index 'idx_nombre_apellidos'. The duplicate key value is (Paty, Pérez, López).",
                    "ename": "",
                    "traceback": []
                }
            ],
            "execution_count": 16
        },
        {
            "cell_type": "code",
            "source": [
                "SELECT * FROM Cliente"
            ],
            "metadata": {
                "language": "sql",
                "azdata_cell_guid": "7afab1cb-d917-4fd8-b091-07d0c27a5953"
            },
            "outputs": [
                {
                    "output_type": "display_data",
                    "data": {
                        "text/html": "(2 rows affected)"
                    },
                    "metadata": {}
                },
                {
                    "output_type": "display_data",
                    "data": {
                        "text/html": "Total execution time: 00:00:00.072"
                    },
                    "metadata": {}
                },
                {
                    "output_type": "execute_result",
                    "metadata": {},
                    "execution_count": 19,
                    "data": {
                        "application/vnd.dataresource+json": {
                            "schema": {
                                "fields": [
                                    {
                                        "name": "ID_Cliente"
                                    },
                                    {
                                        "name": "Nombre"
                                    },
                                    {
                                        "name": "Apellido_Paterno"
                                    },
                                    {
                                        "name": "Apellido_Materno"
                                    },
                                    {
                                        "name": "Correo_Electronico"
                                    },
                                    {
                                        "name": "Fecha_Registro"
                                    },
                                    {
                                        "name": "Monto_Nomina"
                                    }
                                ]
                            },
                            "data": [
                                {
                                    "ID_Cliente": "1",
                                    "Nombre": "Paty",
                                    "Apellido_Paterno": "Pérez",
                                    "Apellido_Materno": "López",
                                    "Correo_Electronico": "paty.perez@ejemplo.com",
                                    "Fecha_Registro": "2024-04-29 06:59:29.577",
                                    "Monto_Nomina": "25000.00"
                                },
                                {
                                    "ID_Cliente": "2",
                                    "Nombre": "Pedro",
                                    "Apellido_Paterno": "Pérez",
                                    "Apellido_Materno": "López",
                                    "Correo_Electronico": "pedro.perez@ejemplo.com",
                                    "Fecha_Registro": "2024-04-29 07:00:11.800",
                                    "Monto_Nomina": "25000.00"
                                }
                            ]
                        },
                        "text/html": [
                            "<table>",
                            "<tr><th>ID_Cliente</th><th>Nombre</th><th>Apellido_Paterno</th><th>Apellido_Materno</th><th>Correo_Electronico</th><th>Fecha_Registro</th><th>Monto_Nomina</th></tr>",
                            "<tr><td>1</td><td>Paty</td><td>Pérez</td><td>López</td><td>paty.perez@ejemplo.com</td><td>2024-04-29 06:59:29.577</td><td>25000.00</td></tr>",
                            "<tr><td>2</td><td>Pedro</td><td>Pérez</td><td>López</td><td>pedro.perez@ejemplo.com</td><td>2024-04-29 07:00:11.800</td><td>25000.00</td></tr>",
                            "</table>"
                        ]
                    }
                }
            ],
            "execution_count": 19
        },
        {
            "cell_type": "code",
            "source": [
                "DELETE Cliente WHERE ID_Cliente = 3"
            ],
            "metadata": {
                "language": "sql",
                "azdata_cell_guid": "e6ec29fe-0936-4acd-a68a-24e9d924ce50"
            },
            "outputs": [
                {
                    "output_type": "display_data",
                    "data": {
                        "text/html": "(1 row affected)"
                    },
                    "metadata": {}
                },
                {
                    "output_type": "display_data",
                    "data": {
                        "text/html": "Total execution time: 00:00:00.080"
                    },
                    "metadata": {}
                }
            ],
            "execution_count": 10
        },
        {
            "cell_type": "code",
            "source": [
                "CREATE UNIQUE INDEX idx_nombre_apellidos ON Cliente (Nombre, Apellido_Paterno, Apellido_Materno)"
            ],
            "metadata": {
                "language": "sql",
                "azdata_cell_guid": "b12c48cb-9dc9-4b0e-abdd-27b895e46b48"
            },
            "outputs": [
                {
                    "output_type": "display_data",
                    "data": {
                        "text/html": "Commands completed successfully."
                    },
                    "metadata": {}
                },
                {
                    "output_type": "display_data",
                    "data": {
                        "text/html": "Total execution time: 00:00:00.083"
                    },
                    "metadata": {}
                }
            ],
            "execution_count": 12
        },
        {
            "cell_type": "code",
            "source": [
                "CREATE PROCEDURE InsertarPrestamo\n",
                "    @ID_Cliente INT,\n",
                "    @Monto_Prestamo DECIMAL(10, 2)\n",
                "AS\n",
                "BEGIN\n",
                "    -- Verificar que el cliente no tenga un préstamo pendiente de aprobación\n",
                "    IF EXISTS(SELECT TOP(1) ID_Prestamo FROM Prestamos WHERE ID_Cliente = @ID_Cliente AND Fecha_Aprobacion IS NULL)\n",
                "    BEGIN\n",
                "        RAISERROR('El cliente tiene un préstamo pendiente de aprobación.', 16, 1);\n",
                "        RETURN;\n",
                "    END\n",
                "\n",
                "    -- Verificar que el cliente no tenga un préstamo activo\n",
                "    IF EXISTS(SELECT TOP(1) ID_Prestamo FROM Prestamos WHERE ID_Cliente = @ID_Cliente AND Activo = 1)\n",
                "    BEGIN\n",
                "        RAISERROR('El cliente tiene un préstamo activo.', 16, 1);\n",
                "        RETURN;\n",
                "    END\n",
                "\n",
                "    DECLARE @ID_Prestamo INT = (SELECT ISNULL(MAX(ID_Prestamo), 0) + 1 FROM Prestamos);\n",
                "\n",
                "    DECLARE @Monto_Nomina DECIMAL(10, 2);\n",
                "    DECLARE @Monto_Comision DECIMAL(10, 2);\n",
                "\n",
                "    -- Obtener el monto de nómina actual del cliente\n",
                "    SET @Monto_Nomina = (SELECT TOP(1) Monto_Nomina FROM Cliente WHERE ID_Cliente = @ID_Cliente);\n",
                "\n",
                "    SET @Monto_Comision = (SELECT @Monto_Prestamo * 0.05);\n",
                "\n",
                "    -- Verificar que el monto del préstamo no exceda el monto de la nómina\n",
                "    IF @Monto_Prestamo + @Monto_Comision > @Monto_Nomina\n",
                "    BEGIN\n",
                "        RAISERROR('El monto del préstamo más comisión no puede exceder el monto de la nómina.', 16, 1);\n",
                "        RETURN;\n",
                "    END\n",
                "\n",
                "    -- Insertar el nuevo préstamo en la tabla Prestamos\n",
                "    INSERT INTO Prestamos (ID_Prestamo, ID_Cliente, Monto_Nomina, Monto_Prestamo, Monto_Comision, Fecha_Solicitud, Fecha_Aprobacion, Activo)\n",
                "    VALUES (@ID_Prestamo, @ID_Cliente, @Monto_Nomina, @Monto_Prestamo, @Monto_Comision, SYSDATETIME(), NULL, 0);\n",
                "    \n",
                "    -- Opcional: Devolver el ID del préstamo insertado\n",
                "    SELECT @ID_Prestamo AS ID_Prestamo\n",
                "END;\n",
                ""
            ],
            "metadata": {
                "language": "sql",
                "azdata_cell_guid": "e87be024-0c87-42f6-b7b0-da8d3a48ce5c"
            },
            "outputs": [
                {
                    "output_type": "display_data",
                    "data": {
                        "text/html": "Commands completed successfully."
                    },
                    "metadata": {}
                },
                {
                    "output_type": "display_data",
                    "data": {
                        "text/html": "Total execution time: 00:00:00.082"
                    },
                    "metadata": {}
                }
            ],
            "execution_count": 43
        },
        {
            "cell_type": "code",
            "source": [
                "DROP PROCEDURE InsertarPrestamo"
            ],
            "metadata": {
                "azdata_cell_guid": "f12bf95b-89f7-4d93-9939-1749de332bb9",
                "language": "sql"
            },
            "outputs": [
                {
                    "output_type": "display_data",
                    "data": {
                        "text/html": "Commands completed successfully."
                    },
                    "metadata": {}
                },
                {
                    "output_type": "display_data",
                    "data": {
                        "text/html": "Total execution time: 00:00:00.071"
                    },
                    "metadata": {}
                }
            ],
            "execution_count": 42
        },
        {
            "cell_type": "code",
            "source": [
                "EXEC InsertarPrestamo\n",
                "    @ID_Cliente=1,\n",
                "    @Monto_Prestamo=11000;"
            ],
            "metadata": {
                "azdata_cell_guid": "68028d27-236b-4294-8423-974c477f5497",
                "language": "sql"
            },
            "outputs": [
                {
                    "output_type": "error",
                    "evalue": "Msg 50000, Level 16, State 1, Procedure InsertarPrestamo, Line 16\nEl cliente tiene un préstamo activo.",
                    "ename": "",
                    "traceback": []
                },
                {
                    "output_type": "display_data",
                    "data": {
                        "text/html": "Total execution time: 00:00:00.078"
                    },
                    "metadata": {}
                }
            ],
            "execution_count": 72
        },
        {
            "cell_type": "code",
            "source": [
                "CREATE UNIQUE INDEX idx_prestamos_id_cliente ON Prestamos(ID_Cliente)"
            ],
            "metadata": {
                "language": "sql",
                "azdata_cell_guid": "880ab909-c1f7-44f3-a066-9b12bdbf0e09"
            },
            "outputs": [
                {
                    "output_type": "display_data",
                    "data": {
                        "text/html": "Commands completed successfully."
                    },
                    "metadata": {}
                },
                {
                    "output_type": "display_data",
                    "data": {
                        "text/html": "Total execution time: 00:00:00.081"
                    },
                    "metadata": {}
                }
            ],
            "execution_count": 21
        },
        {
            "cell_type": "code",
            "source": [
                "DROP INDEX idx_prestamos_id_cliente ON Prestamos;"
            ],
            "metadata": {
                "language": "sql",
                "azdata_cell_guid": "04714a6c-0a16-471e-898a-bbbae30fd613"
            },
            "outputs": [
                {
                    "output_type": "display_data",
                    "data": {
                        "text/html": "Commands completed successfully."
                    },
                    "metadata": {}
                },
                {
                    "output_type": "display_data",
                    "data": {
                        "text/html": "Total execution time: 00:00:00.072"
                    },
                    "metadata": {}
                }
            ],
            "execution_count": 37
        },
        {
            "cell_type": "code",
            "source": [
                "SELECT * FROM Prestamos"
            ],
            "metadata": {
                "language": "sql",
                "azdata_cell_guid": "69acce09-fa65-462f-b88a-b8d399238a2d"
            },
            "outputs": [
                {
                    "output_type": "display_data",
                    "data": {
                        "text/html": "(1 row affected)"
                    },
                    "metadata": {}
                },
                {
                    "output_type": "display_data",
                    "data": {
                        "text/html": "Total execution time: 00:00:00.072"
                    },
                    "metadata": {}
                },
                {
                    "output_type": "execute_result",
                    "metadata": {},
                    "execution_count": 35,
                    "data": {
                        "application/vnd.dataresource+json": {
                            "schema": {
                                "fields": [
                                    {
                                        "name": "ID_Prestamo"
                                    },
                                    {
                                        "name": "ID_Cliente"
                                    },
                                    {
                                        "name": "Monto_Nomina"
                                    },
                                    {
                                        "name": "Monto_Prestamo"
                                    },
                                    {
                                        "name": "Monto_Comision"
                                    },
                                    {
                                        "name": "Fecha_Solicitud"
                                    },
                                    {
                                        "name": "Fecha_Aprobacion"
                                    },
                                    {
                                        "name": "Activo"
                                    }
                                ]
                            },
                            "data": [
                                {
                                    "ID_Prestamo": "1",
                                    "ID_Cliente": "1",
                                    "Monto_Nomina": "25000.00",
                                    "Monto_Prestamo": "10000.00",
                                    "Monto_Comision": "500.00",
                                    "Fecha_Solicitud": "2024-04-29 07:16:29.047",
                                    "Fecha_Aprobacion": "NULL",
                                    "Activo": "0"
                                }
                            ]
                        },
                        "text/html": [
                            "<table>",
                            "<tr><th>ID_Prestamo</th><th>ID_Cliente</th><th>Monto_Nomina</th><th>Monto_Prestamo</th><th>Monto_Comision</th><th>Fecha_Solicitud</th><th>Fecha_Aprobacion</th><th>Activo</th></tr>",
                            "<tr><td>1</td><td>1</td><td>25000.00</td><td>10000.00</td><td>500.00</td><td>2024-04-29 07:16:29.047</td><td>NULL</td><td>0</td></tr>",
                            "</table>"
                        ]
                    }
                }
            ],
            "execution_count": 35
        },
        {
            "cell_type": "code",
            "source": [
                "DELETE FROM Prestamos"
            ],
            "metadata": {
                "language": "sql",
                "azdata_cell_guid": "f95a746d-86d0-487e-83c3-23c3b011ea26"
            },
            "outputs": [
                {
                    "output_type": "display_data",
                    "data": {
                        "text/html": "(1 row affected)"
                    },
                    "metadata": {}
                },
                {
                    "output_type": "display_data",
                    "data": {
                        "text/html": "Total execution time: 00:00:00.070"
                    },
                    "metadata": {}
                }
            ],
            "execution_count": 32
        },
        {
            "cell_type": "code",
            "source": [
                "CREATE PROCEDURE RechazarPrestamo\n",
                "    @ID_Prestamo INT\n",
                "AS\n",
                "BEGIN\n",
                "    -- Validar que el préstamo no esté aprobado\n",
                "    IF EXISTS(SELECT TOP(1) ID_Prestamo FROM Prestamos WHERE ID_Prestamo = @ID_Prestamo AND Fecha_Aprobacion IS NOT NULL)\n",
                "    BEGIN\n",
                "        RAISERROR('El préstamo ya está aprobado o rechazado.', 16, 1);\n",
                "        RETURN;\n",
                "    END\n",
                "\n",
                "    UPDATE Prestamos SET Fecha_Aprobacion = SYSDATETIME(), Activo = 1 WHERE ID_Prestamo = @ID_Prestamo;\n",
                "END"
            ],
            "metadata": {
                "language": "sql",
                "azdata_cell_guid": "81aee002-5f70-44e9-a3b4-87a6766bf471",
                "tags": []
            },
            "outputs": [
                {
                    "output_type": "display_data",
                    "data": {
                        "text/html": "Commands completed successfully."
                    },
                    "metadata": {}
                },
                {
                    "output_type": "display_data",
                    "data": {
                        "text/html": "Total execution time: 00:00:00.072"
                    },
                    "metadata": {}
                }
            ],
            "execution_count": 65
        },
        {
            "cell_type": "code",
            "source": [
                "DROP PROCEDURE RechazarPrestamo"
            ],
            "metadata": {
                "language": "sql",
                "azdata_cell_guid": "747a46f6-4634-43b4-8f29-5bc0dbee401f"
            },
            "outputs": [
                {
                    "output_type": "display_data",
                    "data": {
                        "text/html": "Commands completed successfully."
                    },
                    "metadata": {}
                },
                {
                    "output_type": "display_data",
                    "data": {
                        "text/html": "Total execution time: 00:00:00.072"
                    },
                    "metadata": {}
                }
            ],
            "execution_count": 64
        },
        {
            "cell_type": "code",
            "source": [
                "EXEC RechazarPrestamo\n",
                "    @ID_Prestamo=1;"
            ],
            "metadata": {
                "language": "sql",
                "azdata_cell_guid": "2ae8522a-9754-4143-a381-89b50a70954e"
            },
            "outputs": [
                {
                    "output_type": "error",
                    "evalue": "Msg 50000, Level 16, State 1, Procedure RechazarPrestamo, Line 8\nEl préstamo ya está aprobado.",
                    "ename": "",
                    "traceback": []
                },
                {
                    "output_type": "display_data",
                    "data": {
                        "text/html": "Total execution time: 00:00:00.071"
                    },
                    "metadata": {}
                }
            ],
            "execution_count": 52
        },
        {
            "cell_type": "code",
            "source": [
                "SELECT * FROM Prestamos"
            ],
            "metadata": {
                "language": "sql",
                "azdata_cell_guid": "e35122c1-351f-4a57-9d1c-961d6318d25a"
            },
            "outputs": [
                {
                    "output_type": "display_data",
                    "data": {
                        "text/html": "(2 rows affected)"
                    },
                    "metadata": {}
                },
                {
                    "output_type": "display_data",
                    "data": {
                        "text/html": "Total execution time: 00:00:00.074"
                    },
                    "metadata": {}
                },
                {
                    "output_type": "execute_result",
                    "metadata": {},
                    "execution_count": 73,
                    "data": {
                        "application/vnd.dataresource+json": {
                            "schema": {
                                "fields": [
                                    {
                                        "name": "ID_Prestamo"
                                    },
                                    {
                                        "name": "ID_Cliente"
                                    },
                                    {
                                        "name": "Monto_Nomina"
                                    },
                                    {
                                        "name": "Monto_Prestamo"
                                    },
                                    {
                                        "name": "Monto_Comision"
                                    },
                                    {
                                        "name": "Fecha_Solicitud"
                                    },
                                    {
                                        "name": "Fecha_Aprobacion"
                                    },
                                    {
                                        "name": "Activo"
                                    }
                                ]
                            },
                            "data": [
                                {
                                    "ID_Prestamo": "1",
                                    "ID_Cliente": "1",
                                    "Monto_Nomina": "25000.00",
                                    "Monto_Prestamo": "10000.00",
                                    "Monto_Comision": "500.00",
                                    "Fecha_Solicitud": "2024-04-29 07:16:29.047",
                                    "Fecha_Aprobacion": "2024-04-29 07:41:40.917",
                                    "Activo": "0"
                                },
                                {
                                    "ID_Prestamo": "2",
                                    "ID_Cliente": "1",
                                    "Monto_Nomina": "25000.00",
                                    "Monto_Prestamo": "11000.00",
                                    "Monto_Comision": "550.00",
                                    "Fecha_Solicitud": "2024-04-29 07:37:12.520",
                                    "Fecha_Aprobacion": "2024-04-29 07:41:59.190",
                                    "Activo": "1"
                                }
                            ]
                        },
                        "text/html": [
                            "<table>",
                            "<tr><th>ID_Prestamo</th><th>ID_Cliente</th><th>Monto_Nomina</th><th>Monto_Prestamo</th><th>Monto_Comision</th><th>Fecha_Solicitud</th><th>Fecha_Aprobacion</th><th>Activo</th></tr>",
                            "<tr><td>1</td><td>1</td><td>25000.00</td><td>10000.00</td><td>500.00</td><td>2024-04-29 07:16:29.047</td><td>2024-04-29 07:41:40.917</td><td>0</td></tr>",
                            "<tr><td>2</td><td>1</td><td>25000.00</td><td>11000.00</td><td>550.00</td><td>2024-04-29 07:37:12.520</td><td>2024-04-29 07:41:59.190</td><td>1</td></tr>",
                            "</table>"
                        ]
                    }
                }
            ],
            "execution_count": 73
        },
        {
            "cell_type": "code",
            "source": [
                "CREATE PROCEDURE AprobarPrestamo\n",
                "    @ID_Prestamo INT\n",
                "AS\n",
                "BEGIN\n",
                "    -- Validar que el préstamo no esté aprobado\n",
                "    IF EXISTS(SELECT TOP(1) ID_Prestamo FROM Prestamos WHERE ID_Prestamo = @ID_Prestamo AND Fecha_Aprobacion IS NOT NULL)\n",
                "    BEGIN\n",
                "        RAISERROR('El préstamo ya está aprobado o rechazado.', 16, 1);\n",
                "        RETURN;\n",
                "    END\n",
                "\n",
                "\n",
                "    UPDATE Prestamos SET Fecha_Aprobacion = SYSDATETIME(), Activo = 1 WHERE ID_Prestamo = @ID_Prestamo;\n",
                "END"
            ],
            "metadata": {
                "language": "sql",
                "azdata_cell_guid": "50afa5df-7d1c-48da-8d10-c5fdc3cca406"
            },
            "outputs": [
                {
                    "output_type": "display_data",
                    "data": {
                        "text/html": "Commands completed successfully."
                    },
                    "metadata": {}
                },
                {
                    "output_type": "display_data",
                    "data": {
                        "text/html": "Total execution time: 00:00:00.072"
                    },
                    "metadata": {}
                }
            ],
            "execution_count": 63
        },
        {
            "cell_type": "code",
            "source": [
                "DROP PROCEDURE AprobarPrestamo"
            ],
            "metadata": {
                "language": "sql",
                "azdata_cell_guid": "69201bbf-9fc2-4137-9bb5-b29390155c72"
            },
            "outputs": [
                {
                    "output_type": "display_data",
                    "data": {
                        "text/html": "Commands completed successfully."
                    },
                    "metadata": {}
                },
                {
                    "output_type": "display_data",
                    "data": {
                        "text/html": "Total execution time: 00:00:00.071"
                    },
                    "metadata": {}
                }
            ],
            "execution_count": 62
        },
        {
            "cell_type": "code",
            "source": [
                "EXEC AprobarPrestamo\n",
                "    @ID_Prestamo=2;"
            ],
            "metadata": {
                "language": "sql",
                "azdata_cell_guid": "0247356a-539f-4f10-a87a-f42bf83477c6"
            },
            "outputs": [
                {
                    "output_type": "error",
                    "evalue": "Msg 50000, Level 16, State 1, Procedure AprobarPrestamo, Line 8\nEl préstamo ya está aprobado o rechazado.",
                    "ename": "",
                    "traceback": []
                },
                {
                    "output_type": "display_data",
                    "data": {
                        "text/html": "Total execution time: 00:00:00.072"
                    },
                    "metadata": {}
                }
            ],
            "execution_count": 70
        },
        {
            "cell_type": "code",
            "source": [
                "SELECT * FROM Prestamos"
            ],
            "metadata": {
                "language": "sql",
                "azdata_cell_guid": "b01f40ba-e4e0-4714-bbc8-e5f2ed6f6f38"
            },
            "outputs": [
                {
                    "output_type": "display_data",
                    "data": {
                        "text/html": "(2 rows affected)"
                    },
                    "metadata": {}
                },
                {
                    "output_type": "display_data",
                    "data": {
                        "text/html": "Total execution time: 00:00:00.073"
                    },
                    "metadata": {}
                },
                {
                    "output_type": "execute_result",
                    "metadata": {},
                    "execution_count": 71,
                    "data": {
                        "application/vnd.dataresource+json": {
                            "schema": {
                                "fields": [
                                    {
                                        "name": "ID_Prestamo"
                                    },
                                    {
                                        "name": "ID_Cliente"
                                    },
                                    {
                                        "name": "Monto_Nomina"
                                    },
                                    {
                                        "name": "Monto_Prestamo"
                                    },
                                    {
                                        "name": "Monto_Comision"
                                    },
                                    {
                                        "name": "Fecha_Solicitud"
                                    },
                                    {
                                        "name": "Fecha_Aprobacion"
                                    },
                                    {
                                        "name": "Activo"
                                    }
                                ]
                            },
                            "data": [
                                {
                                    "ID_Prestamo": "1",
                                    "ID_Cliente": "1",
                                    "Monto_Nomina": "25000.00",
                                    "Monto_Prestamo": "10000.00",
                                    "Monto_Comision": "500.00",
                                    "Fecha_Solicitud": "2024-04-29 07:16:29.047",
                                    "Fecha_Aprobacion": "2024-04-29 07:41:40.917",
                                    "Activo": "0"
                                },
                                {
                                    "ID_Prestamo": "2",
                                    "ID_Cliente": "1",
                                    "Monto_Nomina": "25000.00",
                                    "Monto_Prestamo": "11000.00",
                                    "Monto_Comision": "550.00",
                                    "Fecha_Solicitud": "2024-04-29 07:37:12.520",
                                    "Fecha_Aprobacion": "2024-04-29 07:41:59.190",
                                    "Activo": "1"
                                }
                            ]
                        },
                        "text/html": [
                            "<table>",
                            "<tr><th>ID_Prestamo</th><th>ID_Cliente</th><th>Monto_Nomina</th><th>Monto_Prestamo</th><th>Monto_Comision</th><th>Fecha_Solicitud</th><th>Fecha_Aprobacion</th><th>Activo</th></tr>",
                            "<tr><td>1</td><td>1</td><td>25000.00</td><td>10000.00</td><td>500.00</td><td>2024-04-29 07:16:29.047</td><td>2024-04-29 07:41:40.917</td><td>0</td></tr>",
                            "<tr><td>2</td><td>1</td><td>25000.00</td><td>11000.00</td><td>550.00</td><td>2024-04-29 07:37:12.520</td><td>2024-04-29 07:41:59.190</td><td>1</td></tr>",
                            "</table>"
                        ]
                    }
                }
            ],
            "execution_count": 71
        },
        {
            "cell_type": "markdown",
            "source": [
                ""
            ],
            "metadata": {
                "language": "sql",
                "azdata_cell_guid": "c1c831c8-6a40-4abd-a827-42db7b9b7695"
            }
        }
    ]
}